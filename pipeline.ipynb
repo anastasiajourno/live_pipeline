{
 "cells": [
  {
   "cell_type": "markdown",
   "id": "90ef4fd7-61d5-499c-9901-d40977e05b7d",
   "metadata": {},
   "source": [
    "# imports"
   ]
  },
  {
   "cell_type": "code",
   "execution_count": 1,
   "id": "9fadc3d0",
   "metadata": {},
   "outputs": [],
   "source": [
    "import requests\n",
    "import pandas as pd"
   ]
  },
  {
   "cell_type": "markdown",
   "id": "2a884e31",
   "metadata": {},
   "source": [
    "# acquire data"
   ]
  },
  {
   "cell_type": "code",
   "execution_count": 2,
   "id": "ade74e75",
   "metadata": {},
   "outputs": [],
   "source": [
    "api_url = \"https://opendata.maryland.gov/api/id/crti-ybyp.json?$select=*&$order=`:id`+ASC&$limit=3000&$offset=0\""
   ]
  },
  {
   "cell_type": "code",
   "execution_count": 3,
   "id": "4a8403e3-7aa9-4e27-9c41-499cf8cf6416",
   "metadata": {},
   "outputs": [
    {
     "data": {
      "text/plain": [
       "'https://opendata.maryland.gov/api/id/crti-ybyp.json?$select=*&$order=`:id`+ASC&$limit=3000&$offset=0'"
      ]
     },
     "execution_count": 3,
     "metadata": {},
     "output_type": "execute_result"
    }
   ],
   "source": [
    "api_url"
   ]
  },
  {
   "cell_type": "code",
   "execution_count": 7,
   "id": "f87903b8-5393-45ad-a5a8-d5cf48ce5774",
   "metadata": {},
   "outputs": [],
   "source": [
    "resp = requests.get(api_url)\n",
    "data = resp.json()"
   ]
  },
  {
   "cell_type": "code",
   "execution_count": 9,
   "id": "9081a8f5-7be4-4fd0-aef9-a726aeb1b525",
   "metadata": {},
   "outputs": [
    {
     "data": {
      "text/plain": [
       "list"
      ]
     },
     "execution_count": 9,
     "metadata": {},
     "output_type": "execute_result"
    }
   ],
   "source": [
    "type(data)"
   ]
  },
  {
   "cell_type": "code",
   "execution_count": 8,
   "id": "472a7ee3-c1a3-47d8-a889-9094ff43a007",
   "metadata": {},
   "outputs": [
    {
     "data": {
      "text/plain": [
       "{'sno': '1',\n",
       " 'complaint': '232264',\n",
       " 'complaint_description': 'concern of loud noise in the Cheverly area',\n",
       " 'complaint_type': 'Other',\n",
       " 'recieved_date': '2024-03-06',\n",
       " 'incident_date': '2024-03-06',\n",
       " 'county': \"Prince George's\",\n",
       " 'incident_closed_date': '2024-03-08',\n",
       " 'incident_status_desc': 'Incident Closed-Managed'}"
      ]
     },
     "execution_count": 8,
     "metadata": {},
     "output_type": "execute_result"
    }
   ],
   "source": [
    "data[0]"
   ]
  },
  {
   "cell_type": "code",
   "execution_count": 12,
   "id": "e1212dcd-13de-474b-aa29-61ba538f9ca8",
   "metadata": {},
   "outputs": [],
   "source": [
    "df = pd.DataFrame(data)"
   ]
  },
  {
   "cell_type": "markdown",
   "id": "d8cfe4bd",
   "metadata": {},
   "source": [
    "# clean data"
   ]
  },
  {
   "cell_type": "code",
   "execution_count": 14,
   "id": "3898cd8c-ec6b-429d-a6e9-fa5bdabfd285",
   "metadata": {},
   "outputs": [],
   "source": [
    "backup_df = df.copy()"
   ]
  },
  {
   "cell_type": "code",
   "execution_count": 15,
   "id": "f5e596e3-69bf-4b55-80b9-987da3df7373",
   "metadata": {},
   "outputs": [
    {
     "data": {
      "text/plain": [
       "sno                      object\n",
       "complaint                object\n",
       "complaint_description    object\n",
       "complaint_type           object\n",
       "recieved_date            object\n",
       "incident_date            object\n",
       "county                   object\n",
       "incident_closed_date     object\n",
       "incident_status_desc     object\n",
       "incident_zip             object\n",
       "dtype: object"
      ]
     },
     "execution_count": 15,
     "metadata": {},
     "output_type": "execute_result"
    }
   ],
   "source": [
    "df.dtypes"
   ]
  },
  {
   "cell_type": "code",
   "execution_count": 17,
   "id": "d5780b89-1820-4681-a33c-af86e11bd2d3",
   "metadata": {},
   "outputs": [],
   "source": [
    "df['recieved_date'] = pd.to_datetime(df['recieved_date'])"
   ]
  },
  {
   "cell_type": "code",
   "execution_count": 19,
   "id": "751f3b0a-01a0-4b94-b270-d34488ec816f",
   "metadata": {},
   "outputs": [],
   "source": [
    "df['incident_date'] = pd.to_datetime(df['incident_date'])"
   ]
  },
  {
   "cell_type": "code",
   "execution_count": 21,
   "id": "60978cb7-d03b-4a22-a71d-ddcc6b85075e",
   "metadata": {},
   "outputs": [],
   "source": [
    "df['incident_closed_date'] = pd.to_datetime(df['incident_closed_date'])"
   ]
  },
  {
   "cell_type": "code",
   "execution_count": 22,
   "id": "ca7e9de6-2e32-4299-8dda-9e402bf8cb0d",
   "metadata": {},
   "outputs": [
    {
     "data": {
      "text/plain": [
       "sno                              object\n",
       "complaint                        object\n",
       "complaint_description            object\n",
       "complaint_type                   object\n",
       "recieved_date            datetime64[ns]\n",
       "incident_date            datetime64[ns]\n",
       "county                           object\n",
       "incident_closed_date     datetime64[ns]\n",
       "incident_status_desc             object\n",
       "incident_zip                     object\n",
       "dtype: object"
      ]
     },
     "execution_count": 22,
     "metadata": {},
     "output_type": "execute_result"
    }
   ],
   "source": [
    "df.dtypes"
   ]
  },
  {
   "cell_type": "markdown",
   "id": "64305f4d",
   "metadata": {},
   "source": [
    "# analyze data"
   ]
  },
  {
   "cell_type": "code",
   "execution_count": 26,
   "id": "53f17b2d-8ebb-403c-ad25-52f8b041a5e0",
   "metadata": {},
   "outputs": [],
   "source": [
    "year_ago_date = pd.Timestamp('2023-03-09')\n",
    "last_year_df = df[df['recieved_date'] > year_ago_date].copy()"
   ]
  },
  {
   "cell_type": "code",
   "execution_count": 27,
   "id": "d77c90f3-becb-4208-aa73-66a810c3c432",
   "metadata": {},
   "outputs": [
    {
     "data": {
      "text/plain": [
       "county\n",
       "Baltimore City        101\n",
       "Anne Arundel           85\n",
       "Prince George's        83\n",
       "Frederick              62\n",
       "Baltimore              57\n",
       "Montgomery             35\n",
       "Cecil                  25\n",
       "Dorchester             17\n",
       "Harford                17\n",
       "Howard                 15\n",
       "Allegany               15\n",
       "Washington             14\n",
       "Charles                12\n",
       "Carroll                 9\n",
       "Wicomico                8\n",
       "Not Yet Determined      7\n",
       "Worcester               7\n",
       "St. Mary's              6\n",
       "Garrett                 5\n",
       "Caroline                3\n",
       "Queen Anne's            2\n",
       "Somerset                2\n",
       "Talbot                  1\n",
       "Kent                    1\n",
       "Statewide               1\n",
       "Name: count, dtype: int64"
      ]
     },
     "execution_count": 27,
     "metadata": {},
     "output_type": "execute_result"
    }
   ],
   "source": [
    "last_year_df['county'].value_counts()"
   ]
  },
  {
   "cell_type": "code",
   "execution_count": 28,
   "id": "a8ae1b98-fd1f-4961-ac45-142915942274",
   "metadata": {},
   "outputs": [
    {
     "data": {
      "text/plain": [
       "complaint_type\n",
       "Air                                                                                 166\n",
       "Odor                                                                                140\n",
       "Other                                                                               121\n",
       "Fugitive Dust/Particulate Matter                                                     35\n",
       "Smoke                                                                                28\n",
       "Air, Fumes, Odor                                                                     20\n",
       "Open Burning                                                                         13\n",
       "Air, Odor                                                                            11\n",
       "Fumes                                                                                11\n",
       "Open Burning, Smoke                                                                   7\n",
       "Air, Odor, Smoke                                                                      4\n",
       "Air, Fugitive Dust/Particulate Matter                                                 4\n",
       "Odor, Open Burning, Smoke                                                             3\n",
       "Fugitive Dust/Particulate Matter, Smoke                                               3\n",
       "Air, Open Burning                                                                     3\n",
       "Air, Other                                                                            3\n",
       "Air, Smoke                                                                            2\n",
       "Air Pollutant Release                                                                 2\n",
       "Odor, Smoke                                                                           2\n",
       "Noise Complaint                                                                       2\n",
       "Asbestos Complaint                                                                    2\n",
       "Non-Tidal Wetlands/Waterway                                                           2\n",
       "Air, Odor, Open Burning                                                               1\n",
       "Air, Fumes, Smoke                                                                     1\n",
       "Air, Fumes, Odor, Smoke                                                               1\n",
       "Fumes, Smoke                                                                          1\n",
       "Fumes, Open Burning, Smoke                                                            1\n",
       "Air, Fumes, Other                                                                     1\n",
       "ARA AQCP non-regulated entity                                                         1\n",
       "Fumes, Odor, Smoke                                                                    1\n",
       "Air, Fugitive Dust/Particulate Matter, Odor                                           1\n",
       "Air, Fugitive Dust/Particulate Matter, Smoke                                          1\n",
       "Air, Asbestos Complaint                                                               1\n",
       "Air, Fugitive Dust/Particulate Matter, Other, Suspected Operation without Permit      1\n",
       "Air, Odor, Open Burning, Smoke                                                        1\n",
       "Air, Fumes                                                                            1\n",
       "Fumes, Odor, Open Burning                                                             1\n",
       "Name: count, dtype: int64"
      ]
     },
     "execution_count": 28,
     "metadata": {},
     "output_type": "execute_result"
    }
   ],
   "source": [
    "last_year_df['complaint_type'].value_counts()"
   ]
  },
  {
   "cell_type": "code",
   "execution_count": 29,
   "id": "0fab1dc8-9f12-408e-9447-7994d77f7452",
   "metadata": {},
   "outputs": [],
   "source": [
    "last_year_df['complaint_type'] = last_year_df['complaint_type'].str.split(', ')"
   ]
  },
  {
   "cell_type": "code",
   "execution_count": 31,
   "id": "89435d2e-133b-497c-85c3-49b4fdd983a2",
   "metadata": {},
   "outputs": [
    {
     "data": {
      "text/html": [
       "<div>\n",
       "<style scoped>\n",
       "    .dataframe tbody tr th:only-of-type {\n",
       "        vertical-align: middle;\n",
       "    }\n",
       "\n",
       "    .dataframe tbody tr th {\n",
       "        vertical-align: top;\n",
       "    }\n",
       "\n",
       "    .dataframe thead th {\n",
       "        text-align: right;\n",
       "    }\n",
       "</style>\n",
       "<table border=\"1\" class=\"dataframe\">\n",
       "  <thead>\n",
       "    <tr style=\"text-align: right;\">\n",
       "      <th></th>\n",
       "      <th>sno</th>\n",
       "      <th>complaint</th>\n",
       "      <th>complaint_description</th>\n",
       "      <th>complaint_type</th>\n",
       "      <th>recieved_date</th>\n",
       "      <th>incident_date</th>\n",
       "      <th>county</th>\n",
       "      <th>incident_closed_date</th>\n",
       "      <th>incident_status_desc</th>\n",
       "      <th>incident_zip</th>\n",
       "    </tr>\n",
       "  </thead>\n",
       "  <tbody>\n",
       "    <tr>\n",
       "      <th>0</th>\n",
       "      <td>1</td>\n",
       "      <td>232264</td>\n",
       "      <td>concern of loud noise in the Cheverly area</td>\n",
       "      <td>Other</td>\n",
       "      <td>2024-03-06</td>\n",
       "      <td>2024-03-06</td>\n",
       "      <td>Prince George's</td>\n",
       "      <td>2024-03-08</td>\n",
       "      <td>Incident Closed-Managed</td>\n",
       "      <td>NaN</td>\n",
       "    </tr>\n",
       "    <tr>\n",
       "      <th>1</th>\n",
       "      <td>2</td>\n",
       "      <td>232263</td>\n",
       "      <td>concern of loud noise in the Cheverly area</td>\n",
       "      <td>Other</td>\n",
       "      <td>2024-03-06</td>\n",
       "      <td>2024-03-06</td>\n",
       "      <td>Prince George's</td>\n",
       "      <td>2024-03-08</td>\n",
       "      <td>Incident Closed-Managed</td>\n",
       "      <td>NaN</td>\n",
       "    </tr>\n",
       "    <tr>\n",
       "      <th>2</th>\n",
       "      <td>3</td>\n",
       "      <td>232262</td>\n",
       "      <td>concern of loud noise in the Cheverly area</td>\n",
       "      <td>Other</td>\n",
       "      <td>2024-03-06</td>\n",
       "      <td>2024-03-06</td>\n",
       "      <td>Prince George's</td>\n",
       "      <td>2024-03-08</td>\n",
       "      <td>Incident Closed-Managed</td>\n",
       "      <td>NaN</td>\n",
       "    </tr>\n",
       "    <tr>\n",
       "      <th>3</th>\n",
       "      <td>4</td>\n",
       "      <td>232261</td>\n",
       "      <td>concern of loud noise in the Cheverly area</td>\n",
       "      <td>Other</td>\n",
       "      <td>2024-03-06</td>\n",
       "      <td>2024-03-06</td>\n",
       "      <td>Prince George's</td>\n",
       "      <td>2024-03-08</td>\n",
       "      <td>Incident Closed-Managed</td>\n",
       "      <td>NaN</td>\n",
       "    </tr>\n",
       "    <tr>\n",
       "      <th>4</th>\n",
       "      <td>5</td>\n",
       "      <td>232260</td>\n",
       "      <td>concern of loud noise in the Cheverly area</td>\n",
       "      <td>Other</td>\n",
       "      <td>2024-03-06</td>\n",
       "      <td>2024-03-06</td>\n",
       "      <td>Prince George's</td>\n",
       "      <td>2024-03-08</td>\n",
       "      <td>Incident Closed-Managed</td>\n",
       "      <td>NaN</td>\n",
       "    </tr>\n",
       "    <tr>\n",
       "      <th>5</th>\n",
       "      <td>6</td>\n",
       "      <td>232259</td>\n",
       "      <td>concern of loud noise in the Cheverly area</td>\n",
       "      <td>Other</td>\n",
       "      <td>2024-03-06</td>\n",
       "      <td>2024-03-06</td>\n",
       "      <td>Prince George's</td>\n",
       "      <td>2024-03-08</td>\n",
       "      <td>Incident Closed-Managed</td>\n",
       "      <td>NaN</td>\n",
       "    </tr>\n",
       "    <tr>\n",
       "      <th>6</th>\n",
       "      <td>7</td>\n",
       "      <td>232258</td>\n",
       "      <td>concern of loud noise in the Cheverly area</td>\n",
       "      <td>Other</td>\n",
       "      <td>2024-03-06</td>\n",
       "      <td>2024-03-06</td>\n",
       "      <td>Prince George's</td>\n",
       "      <td>2024-03-08</td>\n",
       "      <td>Incident Closed-Managed</td>\n",
       "      <td>NaN</td>\n",
       "    </tr>\n",
       "    <tr>\n",
       "      <th>7</th>\n",
       "      <td>8</td>\n",
       "      <td>232257</td>\n",
       "      <td>concern of loud noise in the Cheverly area</td>\n",
       "      <td>Other</td>\n",
       "      <td>2024-03-06</td>\n",
       "      <td>2024-03-06</td>\n",
       "      <td>Prince George's</td>\n",
       "      <td>2024-03-08</td>\n",
       "      <td>Incident Closed-Managed</td>\n",
       "      <td>NaN</td>\n",
       "    </tr>\n",
       "    <tr>\n",
       "      <th>8</th>\n",
       "      <td>9</td>\n",
       "      <td>232253</td>\n",
       "      <td>Complainant states odors from Stahl Point Road...</td>\n",
       "      <td>Air</td>\n",
       "      <td>2024-03-07</td>\n",
       "      <td>2024-03-07</td>\n",
       "      <td>Anne Arundel</td>\n",
       "      <td>NaT</td>\n",
       "      <td>Under Investigation</td>\n",
       "      <td>NaN</td>\n",
       "    </tr>\n",
       "    <tr>\n",
       "      <th>9</th>\n",
       "      <td>10</td>\n",
       "      <td>232252</td>\n",
       "      <td>Complainant states odor from the Curtis Medica...</td>\n",
       "      <td>Air</td>\n",
       "      <td>2024-03-07</td>\n",
       "      <td>2024-03-06</td>\n",
       "      <td>Anne Arundel</td>\n",
       "      <td>NaT</td>\n",
       "      <td>Under Investigation</td>\n",
       "      <td>NaN</td>\n",
       "    </tr>\n",
       "    <tr>\n",
       "      <th>10</th>\n",
       "      <td>11</td>\n",
       "      <td>232250</td>\n",
       "      <td>Chemical paint odor from a Company mixing pain...</td>\n",
       "      <td>Air</td>\n",
       "      <td>2024-03-07</td>\n",
       "      <td>2024-03-06</td>\n",
       "      <td>Anne Arundel</td>\n",
       "      <td>2024-03-07</td>\n",
       "      <td>Incident Closed-No Violation Observed</td>\n",
       "      <td>NaN</td>\n",
       "    </tr>\n",
       "    <tr>\n",
       "      <th>11</th>\n",
       "      <td>12</td>\n",
       "      <td>232240</td>\n",
       "      <td>Open burning branches causing nuisance</td>\n",
       "      <td>Open Burning</td>\n",
       "      <td>2024-03-04</td>\n",
       "      <td>2024-03-03</td>\n",
       "      <td>Wicomico</td>\n",
       "      <td>NaT</td>\n",
       "      <td>Under Investigation</td>\n",
       "      <td>21804</td>\n",
       "    </tr>\n",
       "    <tr>\n",
       "      <th>12</th>\n",
       "      <td>13</td>\n",
       "      <td>232216</td>\n",
       "      <td>Odor Complaint</td>\n",
       "      <td>Odor</td>\n",
       "      <td>2024-03-01</td>\n",
       "      <td>2024-03-01</td>\n",
       "      <td>Dorchester</td>\n",
       "      <td>2024-03-01</td>\n",
       "      <td>Incident Closed - No further action</td>\n",
       "      <td>21835</td>\n",
       "    </tr>\n",
       "    <tr>\n",
       "      <th>13</th>\n",
       "      <td>14</td>\n",
       "      <td>232215</td>\n",
       "      <td>Odor Complaint</td>\n",
       "      <td>Odor</td>\n",
       "      <td>2024-03-01</td>\n",
       "      <td>2024-03-01</td>\n",
       "      <td>Dorchester</td>\n",
       "      <td>2024-03-01</td>\n",
       "      <td>Incident Closed - No further action</td>\n",
       "      <td>21835</td>\n",
       "    </tr>\n",
       "    <tr>\n",
       "      <th>14</th>\n",
       "      <td>15</td>\n",
       "      <td>232214</td>\n",
       "      <td>Odor Complaint</td>\n",
       "      <td>Odor</td>\n",
       "      <td>2024-02-26</td>\n",
       "      <td>2024-02-26</td>\n",
       "      <td>Dorchester</td>\n",
       "      <td>2024-02-26</td>\n",
       "      <td>Incident Closed - No further action</td>\n",
       "      <td>21835</td>\n",
       "    </tr>\n",
       "    <tr>\n",
       "      <th>15</th>\n",
       "      <td>16</td>\n",
       "      <td>232205</td>\n",
       "      <td>Neighbor's fireplace is producing large amount...</td>\n",
       "      <td>Air</td>\n",
       "      <td>2024-02-29</td>\n",
       "      <td>2024-02-29</td>\n",
       "      <td>Carroll</td>\n",
       "      <td>NaT</td>\n",
       "      <td>Referred to Outside Agency</td>\n",
       "      <td>NaN</td>\n",
       "    </tr>\n",
       "    <tr>\n",
       "      <th>15</th>\n",
       "      <td>16</td>\n",
       "      <td>232205</td>\n",
       "      <td>Neighbor's fireplace is producing large amount...</td>\n",
       "      <td>Smoke</td>\n",
       "      <td>2024-02-29</td>\n",
       "      <td>2024-02-29</td>\n",
       "      <td>Carroll</td>\n",
       "      <td>NaT</td>\n",
       "      <td>Referred to Outside Agency</td>\n",
       "      <td>NaN</td>\n",
       "    </tr>\n",
       "    <tr>\n",
       "      <th>16</th>\n",
       "      <td>17</td>\n",
       "      <td>232204</td>\n",
       "      <td>Concern of loud boom noise in the Cheverly area</td>\n",
       "      <td>Other</td>\n",
       "      <td>2024-02-28</td>\n",
       "      <td>2024-02-28</td>\n",
       "      <td>Prince George's</td>\n",
       "      <td>2024-03-01</td>\n",
       "      <td>Incident Closed-Managed</td>\n",
       "      <td>NaN</td>\n",
       "    </tr>\n",
       "    <tr>\n",
       "      <th>17</th>\n",
       "      <td>18</td>\n",
       "      <td>232203</td>\n",
       "      <td>Complainant describes a foul dead animal odor ...</td>\n",
       "      <td>Air</td>\n",
       "      <td>2024-03-01</td>\n",
       "      <td>2024-03-01</td>\n",
       "      <td>Anne Arundel</td>\n",
       "      <td>NaT</td>\n",
       "      <td>Under Investigation</td>\n",
       "      <td>NaN</td>\n",
       "    </tr>\n",
       "    <tr>\n",
       "      <th>18</th>\n",
       "      <td>19</td>\n",
       "      <td>232193</td>\n",
       "      <td>Concern of neighbor painting cars</td>\n",
       "      <td>Other</td>\n",
       "      <td>2024-02-27</td>\n",
       "      <td>2024-02-27</td>\n",
       "      <td>Prince George's</td>\n",
       "      <td>2024-02-28</td>\n",
       "      <td>Incident Closed-Managed</td>\n",
       "      <td>20735</td>\n",
       "    </tr>\n",
       "    <tr>\n",
       "      <th>19</th>\n",
       "      <td>20</td>\n",
       "      <td>232191</td>\n",
       "      <td>Dust from sandblasting vehicles.  Permit for s...</td>\n",
       "      <td>Air</td>\n",
       "      <td>2024-02-28</td>\n",
       "      <td>2024-02-28</td>\n",
       "      <td>Frederick</td>\n",
       "      <td>NaT</td>\n",
       "      <td>Referred to Attorney General's Office</td>\n",
       "      <td>NaN</td>\n",
       "    </tr>\n",
       "  </tbody>\n",
       "</table>\n",
       "</div>"
      ],
      "text/plain": [
       "   sno complaint                              complaint_description  \\\n",
       "0    1    232264         concern of loud noise in the Cheverly area   \n",
       "1    2    232263         concern of loud noise in the Cheverly area   \n",
       "2    3    232262         concern of loud noise in the Cheverly area   \n",
       "3    4    232261         concern of loud noise in the Cheverly area   \n",
       "4    5    232260         concern of loud noise in the Cheverly area   \n",
       "5    6    232259         concern of loud noise in the Cheverly area   \n",
       "6    7    232258         concern of loud noise in the Cheverly area   \n",
       "7    8    232257         concern of loud noise in the Cheverly area   \n",
       "8    9    232253  Complainant states odors from Stahl Point Road...   \n",
       "9   10    232252  Complainant states odor from the Curtis Medica...   \n",
       "10  11    232250  Chemical paint odor from a Company mixing pain...   \n",
       "11  12    232240             Open burning branches causing nuisance   \n",
       "12  13    232216                                     Odor Complaint   \n",
       "13  14    232215                                     Odor Complaint   \n",
       "14  15    232214                                     Odor Complaint   \n",
       "15  16    232205  Neighbor's fireplace is producing large amount...   \n",
       "15  16    232205  Neighbor's fireplace is producing large amount...   \n",
       "16  17    232204    Concern of loud boom noise in the Cheverly area   \n",
       "17  18    232203  Complainant describes a foul dead animal odor ...   \n",
       "18  19    232193                  Concern of neighbor painting cars   \n",
       "19  20    232191  Dust from sandblasting vehicles.  Permit for s...   \n",
       "\n",
       "   complaint_type recieved_date incident_date           county  \\\n",
       "0           Other    2024-03-06    2024-03-06  Prince George's   \n",
       "1           Other    2024-03-06    2024-03-06  Prince George's   \n",
       "2           Other    2024-03-06    2024-03-06  Prince George's   \n",
       "3           Other    2024-03-06    2024-03-06  Prince George's   \n",
       "4           Other    2024-03-06    2024-03-06  Prince George's   \n",
       "5           Other    2024-03-06    2024-03-06  Prince George's   \n",
       "6           Other    2024-03-06    2024-03-06  Prince George's   \n",
       "7           Other    2024-03-06    2024-03-06  Prince George's   \n",
       "8             Air    2024-03-07    2024-03-07     Anne Arundel   \n",
       "9             Air    2024-03-07    2024-03-06     Anne Arundel   \n",
       "10            Air    2024-03-07    2024-03-06     Anne Arundel   \n",
       "11   Open Burning    2024-03-04    2024-03-03         Wicomico   \n",
       "12           Odor    2024-03-01    2024-03-01       Dorchester   \n",
       "13           Odor    2024-03-01    2024-03-01       Dorchester   \n",
       "14           Odor    2024-02-26    2024-02-26       Dorchester   \n",
       "15            Air    2024-02-29    2024-02-29          Carroll   \n",
       "15          Smoke    2024-02-29    2024-02-29          Carroll   \n",
       "16          Other    2024-02-28    2024-02-28  Prince George's   \n",
       "17            Air    2024-03-01    2024-03-01     Anne Arundel   \n",
       "18          Other    2024-02-27    2024-02-27  Prince George's   \n",
       "19            Air    2024-02-28    2024-02-28        Frederick   \n",
       "\n",
       "   incident_closed_date                   incident_status_desc incident_zip  \n",
       "0            2024-03-08                Incident Closed-Managed          NaN  \n",
       "1            2024-03-08                Incident Closed-Managed          NaN  \n",
       "2            2024-03-08                Incident Closed-Managed          NaN  \n",
       "3            2024-03-08                Incident Closed-Managed          NaN  \n",
       "4            2024-03-08                Incident Closed-Managed          NaN  \n",
       "5            2024-03-08                Incident Closed-Managed          NaN  \n",
       "6            2024-03-08                Incident Closed-Managed          NaN  \n",
       "7            2024-03-08                Incident Closed-Managed          NaN  \n",
       "8                   NaT                    Under Investigation          NaN  \n",
       "9                   NaT                    Under Investigation          NaN  \n",
       "10           2024-03-07  Incident Closed-No Violation Observed          NaN  \n",
       "11                  NaT                    Under Investigation        21804  \n",
       "12           2024-03-01    Incident Closed - No further action        21835  \n",
       "13           2024-03-01    Incident Closed - No further action        21835  \n",
       "14           2024-02-26    Incident Closed - No further action        21835  \n",
       "15                  NaT             Referred to Outside Agency          NaN  \n",
       "15                  NaT             Referred to Outside Agency          NaN  \n",
       "16           2024-03-01                Incident Closed-Managed          NaN  \n",
       "17                  NaT                    Under Investigation          NaN  \n",
       "18           2024-02-28                Incident Closed-Managed        20735  \n",
       "19                  NaT  Referred to Attorney General's Office          NaN  "
      ]
     },
     "execution_count": 31,
     "metadata": {},
     "output_type": "execute_result"
    }
   ],
   "source": [
    "last_year_df[0:20].explode('complaint_type')"
   ]
  },
  {
   "cell_type": "code",
   "execution_count": 34,
   "id": "2472fe04-8b3d-4b89-afd9-8d70103bd65a",
   "metadata": {},
   "outputs": [],
   "source": [
    "complaints_by_type = last_year_df.explode('complaint_type')"
   ]
  },
  {
   "cell_type": "code",
   "execution_count": 36,
   "id": "9142d761-05e6-477c-bf51-79b0eb34b2fb",
   "metadata": {},
   "outputs": [],
   "source": [
    "last_year_by_type = complaints_by_type['complaint_type'].value_counts()"
   ]
  },
  {
   "cell_type": "code",
   "execution_count": 37,
   "id": "05d06355-7c48-4df3-b220-1aae1e2283f5",
   "metadata": {},
   "outputs": [
    {
     "data": {
      "text/plain": [
       "county\n",
       "Baltimore City        101\n",
       "Anne Arundel           85\n",
       "Prince George's        83\n",
       "Frederick              62\n",
       "Baltimore              57\n",
       "Montgomery             35\n",
       "Cecil                  25\n",
       "Dorchester             17\n",
       "Harford                17\n",
       "Howard                 15\n",
       "Allegany               15\n",
       "Washington             14\n",
       "Charles                12\n",
       "Carroll                 9\n",
       "Wicomico                8\n",
       "Not Yet Determined      7\n",
       "Worcester               7\n",
       "St. Mary's              6\n",
       "Garrett                 5\n",
       "Caroline                3\n",
       "Queen Anne's            2\n",
       "Somerset                2\n",
       "Talbot                  1\n",
       "Kent                    1\n",
       "Statewide               1\n",
       "Name: count, dtype: int64"
      ]
     },
     "execution_count": 37,
     "metadata": {},
     "output_type": "execute_result"
    }
   ],
   "source": [
    "last_year_df['county'].value_counts()"
   ]
  },
  {
   "cell_type": "code",
   "execution_count": 39,
   "id": "09ed92fc-5522-43db-a80d-2e81b8ed4002",
   "metadata": {},
   "outputs": [],
   "source": [
    "invalid_county_rows = last_year_df[last_year_df['county'].isin(['Not Yet Determined', 'Statewide'])]\n",
    "invalid_county_rows.to_csv('exported_data/invalid_counties.csv')"
   ]
  },
  {
   "cell_type": "code",
   "execution_count": 41,
   "id": "431678e9-6b0b-4893-93e6-93753a0d9b98",
   "metadata": {},
   "outputs": [],
   "source": [
    "last_year_df = last_year_df[last_year_df['county'].isin(['Not Yet Determined', 'Statewide']) == False]"
   ]
  },
  {
   "cell_type": "code",
   "execution_count": 43,
   "id": "9e832fdd-f5dd-4538-8c26-ea5d4b9931d5",
   "metadata": {},
   "outputs": [],
   "source": [
    "last_year_by_county = last_year_df['county'].value_counts()"
   ]
  },
  {
   "cell_type": "code",
   "execution_count": null,
   "id": "409fe987-0b6f-41d4-b710-564d55992605",
   "metadata": {},
   "outputs": [],
   "source": []
  },
  {
   "cell_type": "markdown",
   "id": "4849e5e3",
   "metadata": {},
   "source": [
    "# export data"
   ]
  },
  {
   "cell_type": "code",
   "execution_count": 45,
   "id": "a378c8a5-118d-4a78-b540-be9edb767d63",
   "metadata": {},
   "outputs": [],
   "source": [
    "last_year_by_type.to_csv('exported_data/complaint_type_frequency.csv')\n",
    "last_year_by_county.to_csv('exported_data/county_frequency.csv')"
   ]
  },
  {
   "cell_type": "code",
   "execution_count": 46,
   "id": "876dee8c-3ea4-454d-ae1c-452d145b47a5",
   "metadata": {},
   "outputs": [],
   "source": [
    "last_year_df.to_csv('exported_data/all_complaints.csv', index=False)"
   ]
  },
  {
   "cell_type": "raw",
   "id": "b9d94869-7f77-43ad-a5c2-d0abd9ac6f35",
   "metadata": {},
   "source": []
  },
  {
   "cell_type": "code",
   "execution_count": null,
   "id": "c5f18e7d-5f9e-4535-b8ed-422a17749e19",
   "metadata": {},
   "outputs": [],
   "source": []
  },
  {
   "cell_type": "code",
   "execution_count": null,
   "id": "fcc46eb2-71f7-4ab6-b4ee-b71f5035b931",
   "metadata": {},
   "outputs": [],
   "source": []
  }
 ],
 "metadata": {
  "kernelspec": {
   "display_name": "Python 3 (ipykernel)",
   "language": "python",
   "name": "python3"
  },
  "language_info": {
   "codemirror_mode": {
    "name": "ipython",
    "version": 3
   },
   "file_extension": ".py",
   "mimetype": "text/x-python",
   "name": "python",
   "nbconvert_exporter": "python",
   "pygments_lexer": "ipython3",
   "version": "3.11.8"
  }
 },
 "nbformat": 4,
 "nbformat_minor": 5
}
